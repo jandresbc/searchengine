{
 "cells": [
  {
   "cell_type": "code",
   "execution_count": null,
   "metadata": {},
   "outputs": [],
   "source": [
    "from conexion import conectMysql\n",
    "import pandas as pd\n",
    "import numpy as np\n",
    "import matplotlib.pyplot as plt\n",
    "from modelos import modelos\n",
    "\n",
    "conn = conectMysql()\n",
    "db = conn.con()\n",
    "model = modelos()"
   ]
  },
  {
   "cell_type": "code",
   "execution_count": null,
   "metadata": {},
   "outputs": [],
   "source": [
    "#Se lee todos los datos de productos almacenados en BD.\n",
    "consulta = \"select r.id_producto, r.id_referencia, m.id_marca_producto, tp.id_tipo_producto, tp.tipo, m.marca, concat(p.producto,' ',r.referencia) as producto, r.referencia, r.precio, p.descripcion,p.caracteristicas,p.beneficios, concat('https://backend.laika.com.co/imgs_productos/',i.foto) as urlimagen from pro_productos p INNER JOIN pro_referencias r ON p.id_producto=r.id_referencia INNER JOIN pro_marcas m ON p.id_marca_producto = m.id_marca_producto INNER JOIN pro_tipos tp ON tp.id_tipo_producto = p.id_tipo_producto INNER JOIN pro_imagenes i ON p.id_producto = i.id_producto where p.estado = 'activo' and tp.estado = 'activo' and r.estado = 'activo'\"\n",
    "productos = conn.query(db,consulta)\n",
    "\n",
    "tipos = productos.drop_duplicates(subset=\"tipo\")[[\"id_tipo_producto\",\"tipo\"]]\n",
    "tipos.reset_index(inplace=True)\n",
    "marcas = productos.drop_duplicates(subset=\"marca\")[[\"id_marca_producto\",\"marca\"]]\n",
    "marcas.reset_index(inplace=True)\n",
    "\n",
    "productos[\"search\"] = productos[\"marca\"] +\" \"+productos[\"producto\"] +\" \"+ productos[\"tipo\"] +\" \"+ productos[\"descripcion\"] +\" \"+ productos[\"caracteristicas\"] +\" \"+ productos[\"beneficios\"]"
   ]
  },
  {
   "cell_type": "code",
   "execution_count": null,
   "metadata": {},
   "outputs": [],
   "source": [
    "from sklearn.model_selection import train_test_split\n",
    "from sklearn.feature_extraction.text import CountVectorizer\n",
    "from sklearn.feature_extraction.text import TfidfTransformer\n",
    "from sklearn.naive_bayes import MultinomialNB\n",
    "\n",
    "products = productos.search\n",
    "labels = productos.id_marca_producto\n",
    "\n",
    "# X_train, X_test, y_train, y_test = train_test_split(products, labels, random_state = 0, test_size=0.20)\n",
    "count_vect = CountVectorizer()\n",
    "X_train_counts = count_vect.fit_transform(products)\n",
    "# tfidf_transformer = TfidfTransformer()\n",
    "# X_train_tfidf = tfidf_transformer.fit_transform(X_train_counts)\n",
    "\n",
    "clf = MultinomialNB().fit(X_train_counts, labels)\n",
    "\n",
    "print(clf.predict(count_vect.transform([\"br\",\"for\",\"dog\"])))\n",
    "\n",
    "# print(clf.score(count_vect.transform(X_test),y_test))"
   ]
  },
  {
   "cell_type": "code",
   "execution_count": null,
   "metadata": {},
   "outputs": [],
   "source": [
    "#data\n",
    "products = productos[\"search\"].values\n",
    "labels = productos['id_marca_producto'].values\n",
    "\n",
    "# data = model.train_test_split(products,labels)\n",
    "\n",
    "#data\n",
    "# prod = data[\"train\"][\"X_train\"]\n",
    "# labels = data[\"train\"]['y_train']\n",
    "\n",
    "# #test\n",
    "# X_test = data[\"test\"][\"X_test\"]\n",
    "# y_test = data[\"test\"][\"y_test\"]\n",
    "\n",
    "model.classifier(\"countVectorizer\")\n",
    "\n",
    "model.fit(\"logistic\",products,labels)\n",
    "\n",
    "clientquery = model.clientsaid(\"br for dog\")\n",
    "print(clientquery)\n",
    "pred = model.predict(clientquery)\n",
    "print(pred)\n",
    "# model.showDataPredict(productos,\"id_marca_producto\",[\"id_producto\",\"producto\"])\n",
    "\n",
    "# model.scoreModel(X_test,y_test)\n",
    "# model.matrix_confusion(X_test)"
   ]
  },
  {
   "cell_type": "code",
   "execution_count": 15,
   "metadata": {},
   "outputs": [
    {
     "name": "stdout",
     "output_type": "stream",
     "text": [
      "[{'error': True, 'message': 'No data returned', 'code': '406'}]\n"
     ]
    }
   ],
   "source": [
    "from execute import execute\n",
    "\n",
    "json = None\n",
    "ex = execute()\n",
    "\n",
    "response = ex.exe(\"br\",108)\n",
    "\n",
    "if \"marcas\" in response:\n",
    "    json = ex.showData(response)\n",
    "print(response)\n",
    "json\n"
   ]
  }
 ],
 "metadata": {
  "kernelspec": {
   "display_name": "Python 3",
   "language": "python",
   "name": "python3"
  },
  "language_info": {
   "codemirror_mode": {
    "name": "ipython",
    "version": 3
   },
   "file_extension": ".py",
   "mimetype": "text/x-python",
   "name": "python",
   "nbconvert_exporter": "python",
   "pygments_lexer": "ipython3",
   "version": "3.6.8"
  }
 },
 "nbformat": 4,
 "nbformat_minor": 2
}
